{
 "cells": [
  {
   "cell_type": "markdown",
   "metadata": {
    "slideshow": {
     "slide_type": "slide"
    }
   },
   "source": [
    "## Topic : if / else\n",
    "---------\n",
    "\n",
    "It is similar to that of other languages. The if statement contains a logical expression using which data is compared and a decision is made based on the result of the comparison.\n",
    "\n",
    "### An important difference with C and C++ is that Python uses indentation to group things."
   ]
  },
  {
   "cell_type": "code",
   "execution_count": null,
   "metadata": {
    "slideshow": {
     "slide_type": "subslide"
    }
   },
   "outputs": [],
   "source": [
    "if 2 > 1:\n",
    "    print (\"Hello World!\")"
   ]
  },
  {
   "cell_type": "markdown",
   "metadata": {},
   "source": [
    "An else statement can be combined with an if statement. An else statement contains the block of code that executes if the conditional expression in the if statement resolves to 0 or a FALSE value.\n",
    "\n",
    "The else statement is an optional statement and there could be at most only one else statement following if."
   ]
  },
  {
   "cell_type": "code",
   "execution_count": null,
   "metadata": {
    "slideshow": {
     "slide_type": "subslide"
    }
   },
   "outputs": [],
   "source": [
    "if 1 > 2:\n",
    "    print (\"Hello World!\")\n",
    "else:\n",
    "    print (\"World is not a beautiful place!\")"
   ]
  },
  {
   "cell_type": "markdown",
   "metadata": {},
   "source": [
    "The elif statement allows you to check multiple expressions for TRUE and execute a block of code as soon as one of the conditions evaluates to TRUE.\n",
    "\n",
    "Similar to the else, the elif statement is optional. However, unlike else, for which there can be at most one statement, there can be an arbitrary number of elif statements following an if."
   ]
  },
  {
   "cell_type": "code",
   "execution_count": null,
   "metadata": {
    "slideshow": {
     "slide_type": "subslide"
    }
   },
   "outputs": [],
   "source": [
    "if 1 > 2:\n",
    "    print (\"Hello World!\")\n",
    "elif 2 > 3:\n",
    "    print (\"World is even better!\")\n",
    "elif 3 > 4:\n",
    "    print (\"I don't want to live here!\")\n",
    "else:\n",
    "    print (\"World is not a beautiful place!\")"
   ]
  },
  {
   "cell_type": "markdown",
   "metadata": {
    "slideshow": {
     "slide_type": "slide"
    }
   },
   "source": [
    "### if / else with strings and lists"
   ]
  },
  {
   "cell_type": "code",
   "execution_count": null,
   "metadata": {
    "slideshow": {
     "slide_type": "subslide"
    }
   },
   "outputs": [],
   "source": [
    "list1 = [1,2,3,4,5,True,\"hello\"]\n",
    "s = \"hello world!\"\n",
    "print list1\n",
    "print s"
   ]
  },
  {
   "cell_type": "code",
   "execution_count": null,
   "metadata": {
    "slideshow": {
     "slide_type": "subslide"
    }
   },
   "outputs": [],
   "source": [
    "if 4 in list1:\n",
    "    print (\"Hey! 4 exists in list1\")"
   ]
  },
  {
   "cell_type": "code",
   "execution_count": null,
   "metadata": {
    "slideshow": {
     "slide_type": "subslide"
    }
   },
   "outputs": [],
   "source": [
    "if 2 in list1:\n",
    "    i = list1.index(2)\n",
    "    print (\"Search successful. Found at index {0}\".format((i+1)))"
   ]
  },
  {
   "cell_type": "code",
   "execution_count": null,
   "metadata": {
    "slideshow": {
     "slide_type": "subslide"
    }
   },
   "outputs": [],
   "source": [
    "if 'o' in s:\n",
    "    print (\"'o' exists!\")"
   ]
  },
  {
   "cell_type": "code",
   "execution_count": null,
   "metadata": {
    "slideshow": {
     "slide_type": "subslide"
    }
   },
   "outputs": [],
   "source": [
    "if 'llo' in s:\n",
    "    print (\"'llo' exists!\")if True:\n",
    "    print('This conditional is always True.')\n",
    "\n",
    "if not False:\n",
    "    print('This conditional is always not False.')\n",
    "\n",
    "if 1:\n",
    "    print('1 is True')\n",
    "else:\n",
    "    print('1 is False')\n",
    "\n",
    "if 0:\n",
    "    print('0 is True')\n",
    "else:\n",
    "    print('0 is False')"
   ]
  },
  {
   "cell_type": "markdown",
   "metadata": {},
   "source": [
    "### With bool type : "
   ]
  },
  {
   "cell_type": "code",
   "execution_count": null,
   "metadata": {},
   "outputs": [],
   "source": [
    "if True:\n",
    "    print('This conditional is always True.')\n",
    "\n",
    "if not False:\n",
    "    print('This conditional is always not False.')"
   ]
  },
  {
   "cell_type": "code",
   "execution_count": null,
   "metadata": {},
   "outputs": [],
   "source": [
    "if 1:\n",
    "    print('1 is True')\n",
    "else:\n",
    "    print('1 is False')"
   ]
  },
  {
   "cell_type": "code",
   "execution_count": null,
   "metadata": {},
   "outputs": [],
   "source": [
    "if 0:\n",
    "    print('0 is True')\n",
    "else:\n",
    "    print('0 is False')"
   ]
  },
  {
   "cell_type": "markdown",
   "metadata": {},
   "source": [
    "### Let's put our skils to work on a new example!"
   ]
  },
  {
   "cell_type": "code",
   "execution_count": null,
   "metadata": {},
   "outputs": [],
   "source": [
    "age = 9\n",
    "\n",
    "if age <= 19: # if statement\n",
    "    # Notice the indentation\n",
    "    message = 'Yay! You are a teenager.' \n",
    "    print(message)"
   ]
  },
  {
   "cell_type": "code",
   "execution_count": null,
   "metadata": {},
   "outputs": [],
   "source": [
    "age = 21\n",
    "\n",
    "if age <= 19 and age > 12: # if statement with two conditions\n",
    "    message = 'Yay! You are a teenager.' \n",
    "    print(message)"
   ]
  },
  {
   "cell_type": "code",
   "execution_count": null,
   "metadata": {},
   "outputs": [],
   "source": [
    "age = 10\n",
    "\n",
    "if age <= 19 and age > 12: # if-else statement\n",
    "    message = 'Yay! You are a teenager. :)' \n",
    "    print(message)\n",
    "else:\n",
    "    message = 'Alas! You are not a teenager. :('\n",
    "    print(message)"
   ]
  },
  {
   "cell_type": "code",
   "execution_count": null,
   "metadata": {},
   "outputs": [],
   "source": [
    "age = 10\n",
    "\n",
    "if age <= 19 and age > 12: # if-elif-else statement\n",
    "    message = 'Yay! You are a teenager. :)' \n",
    "    print(message)\n",
    "elif age < 13:\n",
    "    message = 'Be prepared! You are about to be a teenager. :D'\n",
    "    print(message)\n",
    "else:\n",
    "    message = 'Alas! You are not a teenager. :('\n",
    "    print(message)"
   ]
  }
 ],
 "metadata": {
  "celltoolbar": "Slideshow",
  "kernelspec": {
   "display_name": "Python 3",
   "language": "python",
   "name": "python3"
  },
  "language_info": {
   "codemirror_mode": {
    "name": "ipython",
    "version": 3
   },
   "file_extension": ".py",
   "mimetype": "text/x-python",
   "name": "python",
   "nbconvert_exporter": "python",
   "pygments_lexer": "ipython3",
   "version": "3.5.4"
  }
 },
 "nbformat": 4,
 "nbformat_minor": 1
}
