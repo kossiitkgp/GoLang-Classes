{
 "cells": [
  {
   "cell_type": "markdown",
   "metadata": {},
   "source": [
    "<center>Introduction to Python !</center>\n",
    "---"
   ]
  },
  {
   "cell_type": "markdown",
   "metadata": {},
   "source": [
    "Presented By :\n",
    "* Parth Verma | [Parth-Vader](www.github.com/Parth-Vader)\n",
    "* Nitin Choudhary | [nitinkgp23](www.github.com/nitinkgp23)\n",
    "* Sangeet Kumar Mishra | [sangeet259](www.github.com/sangeet259)"
   ]
  },
  {
   "cell_type": "markdown",
   "metadata": {},
   "source": [
    "Co-Ordinted By :\n",
    "* Himanshu Mishra | [OrkoHunter](www.github.com/OrkoHunter)\n",
    "* Kshitij Saraogi | [shitij10496](www.github.com/shitij10496)\n",
    "* Rishabh Madan | [madan96](www.github.com/madan96)"
   ]
  },
  {
   "cell_type": "markdown",
   "metadata": {},
   "source": [
    "## Organised By :\n",
    "### [Kharagpur Open Source Society](https://kossiitkgp.github.io)"
   ]
  },
  {
   "cell_type": "markdown",
   "metadata": {},
   "source": [
    "# What are we going to learn today ?\n",
    "\n",
    "\n",
    "- How to program in Python language?\n",
    "- What is the Python language and why is there a buzz about it?\n",
    "\n",
    "\n",
    "Topics covered in this session:\n",
    "    - Types\n",
    "    - Variables\n",
    "    - Strings\n",
    "    - Boolean\n",
    "    - Conditionals\n",
    "    - List and Tuples\n",
    "    - Loops\n",
    "    - Functions\n",
    "    - Dicts\n",
    "    \n",
    "By the end of the session, We would like everyone to be comfortable with these concepts as they are the basis of the next session `Advanced Python`"
   ]
  },
  {
   "cell_type": "markdown",
   "metadata": {},
   "source": [
    "# How to Write and Run Python Code\n",
    "\n",
    "There are two ways to run Python code:\n",
    "    1. interactive mode\n",
    "    2. script mode\n"
   ]
  },
  {
   "cell_type": "markdown",
   "metadata": {},
   "source": [
    "## Interactive Mode\n",
    "\n",
    "In interactive mode, you type Python code and the interpreter displays the result.\n",
    "This is the Python REPL (Read-Eval-Print Loop)."
   ]
  },
  {
   "cell_type": "code",
   "execution_count": 1,
   "metadata": {},
   "outputs": [
    {
     "name": "stdout",
     "output_type": "stream",
     "text": [
      "Hello, World! This is my first line of Python\n"
     ]
    }
   ],
   "source": [
    "print('Hello, World! This is my first line of Python')"
   ]
  },
  {
   "cell_type": "markdown",
   "metadata": {},
   "source": [
    "## Script Mode\n",
    "\n",
    "In script mode, you store the code in a file that ends with \".py\".\n",
    "\n",
    "Copy the above line of code in a file called **hello_world.py**.\n",
    "To execute the code in the file, you would type **$ python first_program.py** in a command window.\n",
    "\n",
    "You should save your code as a script if you are writing anything more than a few lines."
   ]
  },
  {
   "cell_type": "markdown",
   "metadata": {},
   "source": [
    "## Types"
   ]
  },
  {
   "cell_type": "markdown",
   "metadata": {},
   "source": [
    "Variables\n",
    "---------\n",
    "\n",
    "In computer programming, a variable is a storage location and an associated symbolic name (an _identifier_) which contains some known or unknown quantity or information, a value.\n",
    "\n",
    "#### C\n",
    "```c\n",
    "int x = 29;\n",
    "float y = 321.321;\n",
    "double z = 32132132132133.21;\n",
    "```\n",
    "\n",
    "#### Python\n",
    "```python\n",
    "x = 343  # Integer\n",
    "y = 4324n4324  # Flaot\n",
    "```\n",
    "Variable names in Python can contain alphanumerical characters a-z, A-Z, 0-9 and some special characters such as `_`. Normal variable names should start with a letter. `_` can be used for special cases.\n",
    "By convension, variable names start with a lower-case letter, and Class names start with an upper-case letter.\n",
    "In addition, there are a number of Python keywords that cannot be used as variable names. These keywords are:\n",
    "\n",
    "```\n",
    "and, as, assert, break, class, continue, def, del, elif, else, except, \n",
    "exec, finally, for, from, global, if, import, in, is, lambda, not, or,\n",
    "pass, print, raise, return, try, while, with, yield\n",
    "```\n"
   ]
  },
  {
   "cell_type": "markdown",
   "metadata": {},
   "source": [
    "Note: Be aware of the keyword `lambda`, which could easily be a natural variable name in a scientific program. But being a keyword, it cannot be used as a variable name."
   ]
  },
  {
   "cell_type": "markdown",
   "metadata": {},
   "source": [
    "Assignment\n",
    "----------\n",
    "\n",
    "The assignment operator in Python is `=`. Python is a dynamically typed language, so we do not need to specify the type of a variable when we create one."
   ]
  },
  {
   "cell_type": "raw",
   "metadata": {},
   "source": [
    "Assigning a value to a new variable creates the variable:"
   ]
  },
  {
   "cell_type": "code",
   "execution_count": null,
   "metadata": {},
   "outputs": [],
   "source": [
    "''' \n",
    "variable assignments\n",
    "this is a variable assignment\n",
    "'''\n",
    "x = 1.0\n",
    "my_variable = 12\n",
    "name=\"Ram\""
   ]
  },
  {
   "cell_type": "code",
   "execution_count": null,
   "metadata": {},
   "outputs": [],
   "source": [
    "print(type(x))\n",
    "print(type(my_variable))\n",
    "print(type(name))"
   ]
  },
  {
   "cell_type": "raw",
   "metadata": {},
   "source": [
    "If we assign a new value to a variable, its type can change."
   ]
  },
  {
   "cell_type": "code",
   "execution_count": null,
   "metadata": {},
   "outputs": [],
   "source": [
    "x = 1\n",
    "type(x)"
   ]
  },
  {
   "cell_type": "markdown",
   "metadata": {},
   "source": [
    "We get a `NameError` when we try to access a variable which has not been defined."
   ]
  },
  {
   "cell_type": "code",
   "execution_count": null,
   "metadata": {},
   "outputs": [],
   "source": [
    "t = x + y"
   ]
  },
  {
   "cell_type": "markdown",
   "metadata": {},
   "source": [
    "## Multiple assignments"
   ]
  },
  {
   "cell_type": "code",
   "execution_count": null,
   "metadata": {},
   "outputs": [],
   "source": [
    "a, b, c = 5, 3.2, \"Hello\""
   ]
  },
  {
   "cell_type": "code",
   "execution_count": null,
   "metadata": {},
   "outputs": [],
   "source": [
    "print(a,b,c)"
   ]
  },
  {
   "cell_type": "markdown",
   "metadata": {},
   "source": [
    "### Assign the same value to multiple variables at once"
   ]
  },
  {
   "cell_type": "code",
   "execution_count": null,
   "metadata": {},
   "outputs": [],
   "source": [
    "x = y = z = \"same\""
   ]
  },
  {
   "cell_type": "markdown",
   "metadata": {},
   "source": [
    "Fundamental data types\n",
    "----------------------"
   ]
  },
  {
   "cell_type": "code",
   "execution_count": null,
   "metadata": {},
   "outputs": [],
   "source": [
    "# integers\n",
    "x = 1\n",
    "type(x)"
   ]
  },
  {
   "cell_type": "code",
   "execution_count": null,
   "metadata": {},
   "outputs": [],
   "source": [
    "# float\n",
    "x = 1.0\n",
    "type(x)"
   ]
  },
  {
   "cell_type": "code",
   "execution_count": null,
   "metadata": {},
   "outputs": [],
   "source": [
    "# boolean\n",
    "b1 = True\n",
    "b2 = False\n",
    "\n",
    "type(b1)\n"
   ]
  },
  {
   "cell_type": "markdown",
   "metadata": {},
   "source": [
    "### More on Booleans later!"
   ]
  },
  {
   "cell_type": "markdown",
   "metadata": {},
   "source": [
    "## Complex Numbers in Python !!"
   ]
  },
  {
   "cell_type": "code",
   "execution_count": null,
   "metadata": {},
   "outputs": [],
   "source": [
    "# complex numbers: note the use of `j` to specify the imaginary part\n",
    "x = 1.0 - 1.0j\n",
    "type(x)"
   ]
  },
  {
   "cell_type": "code",
   "execution_count": null,
   "metadata": {},
   "outputs": [],
   "source": [
    "print(x)"
   ]
  },
  {
   "cell_type": "code",
   "execution_count": null,
   "metadata": {},
   "outputs": [],
   "source": [
    "# Real part\n",
    "print(x.real)"
   ]
  },
  {
   "cell_type": "code",
   "execution_count": null,
   "metadata": {},
   "outputs": [],
   "source": [
    "# Imaginary \n",
    "print(x.imag)"
   ]
  },
  {
   "cell_type": "markdown",
   "metadata": {},
   "source": [
    "## Typecasting\n",
    "\n",
    "When you want to change variables from one type to another.\n",
    "We are using inbuilt _functions_ to do the typecasting.\n",
    "Later we'll show you how to write your own functions."
   ]
  },
  {
   "cell_type": "code",
   "execution_count": null,
   "metadata": {},
   "outputs": [],
   "source": [
    "a = 1\n",
    "a"
   ]
  },
  {
   "cell_type": "code",
   "execution_count": null,
   "metadata": {},
   "outputs": [],
   "source": [
    "float(a)"
   ]
  },
  {
   "cell_type": "code",
   "execution_count": null,
   "metadata": {},
   "outputs": [],
   "source": [
    "z = 2 + 3j\n",
    "z"
   ]
  },
  {
   "cell_type": "code",
   "execution_count": null,
   "metadata": {},
   "outputs": [],
   "source": [
    "float(z.imag)"
   ]
  },
  {
   "cell_type": "code",
   "execution_count": null,
   "metadata": {},
   "outputs": [],
   "source": [
    "complex(a)"
   ]
  },
  {
   "cell_type": "code",
   "execution_count": null,
   "metadata": {},
   "outputs": [],
   "source": [
    "int(45.55)"
   ]
  },
  {
   "cell_type": "markdown",
   "metadata": {},
   "source": [
    "## Python List"
   ]
  },
  {
   "cell_type": "raw",
   "metadata": {},
   "source": [
    "List is an ordered sequence of items."
   ]
  },
  {
   "cell_type": "code",
   "execution_count": null,
   "metadata": {},
   "outputs": [],
   "source": [
    "a = [1, 2.2, 'python']"
   ]
  },
  {
   "cell_type": "markdown",
   "metadata": {},
   "source": [
    "## Python Tuple"
   ]
  },
  {
   "cell_type": "raw",
   "metadata": {},
   "source": [
    "Tuple is an ordered sequence of items same as list.\n",
    "The only difference is that tuples are immutable."
   ]
  },
  {
   "cell_type": "code",
   "execution_count": null,
   "metadata": {},
   "outputs": [],
   "source": [
    "t = (5,'program', 1+3j)"
   ]
  },
  {
   "cell_type": "markdown",
   "metadata": {},
   "source": [
    "# Mutability in Python"
   ]
  },
  {
   "cell_type": "markdown",
   "metadata": {},
   "source": [
    "```A class is immutable if each object of that class has a fixed value upon instantiation that cannot SUBSEQUENTLY be changed```"
   ]
  },
  {
   "cell_type": "markdown",
   "metadata": {},
   "source": [
    "***In another words change the entire value of that variable name or leave it alone.***"
   ]
  },
  {
   "cell_type": "raw",
   "metadata": {},
   "source": [
    "Example:"
   ]
  },
  {
   "cell_type": "code",
   "execution_count": null,
   "metadata": {},
   "outputs": [],
   "source": [
    "my_string = \"Hello world\"\n",
    "my_string[0] = \"h\"\n",
    "print(my_string)"
   ]
  },
  {
   "cell_type": "raw",
   "metadata": {},
   "source": [
    "The interpreter is saying : i can't change the first character of this string"
   ]
  },
  {
   "cell_type": "raw",
   "metadata": {},
   "source": [
    "You will have to change the whole `string` in order to make it works:"
   ]
  },
  {
   "cell_type": "code",
   "execution_count": null,
   "metadata": {},
   "outputs": [],
   "source": [
    "my_string = \"Hello World\"\n",
    "my_string = \"hello world\"\n",
    "print(my_string) #hello world"
   ]
  },
  {
   "cell_type": "raw",
   "metadata": {},
   "source": [
    "Here is a complete list of Mutable and Immutable Data Types"
   ]
  },
  {
   "cell_type": "markdown",
   "metadata": {},
   "source": [
    "![img](./img/mutable_and_immutable.png \"img\")"
   ]
  },
  {
   "cell_type": "code",
   "execution_count": null,
   "metadata": {},
   "outputs": [],
   "source": []
  }
 ],
 "metadata": {
  "kernelspec": {
   "display_name": "Python 3",
   "language": "python",
   "name": "python3"
  },
  "language_info": {
   "codemirror_mode": {
    "name": "ipython",
    "version": 3
   },
   "file_extension": ".py",
   "mimetype": "text/x-python",
   "name": "python",
   "nbconvert_exporter": "python",
   "pygments_lexer": "ipython3",
   "version": "3.5.2"
  }
 },
 "nbformat": 4,
 "nbformat_minor": 2
}
