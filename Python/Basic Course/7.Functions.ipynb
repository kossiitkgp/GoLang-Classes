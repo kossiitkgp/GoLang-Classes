{
 "cells": [
  {
   "cell_type": "markdown",
   "metadata": {},
   "source": [
    "## Topic : Functions\n",
    "\n",
    "* A function is a block of organized, reusable code that is used to perform a single, related action. Functions provide better modularity for your application and a high degree of code reusing.\n",
    "\n",
    "* As you already know, Python gives you many built-in functions like print(), etc. but you can also create your own functions. These functions are called user-defined functions.\n",
    "\n",
    "* Exist in other languages such as C and C++ too."
   ]
  },
  {
   "cell_type": "markdown",
   "metadata": {},
   "source": [
    "### Structure\n",
    "\n",
    "You can define functions to provide the required functionality. Here are simple rules to define a function in Python.\n",
    "\n",
    "* Function blocks begin with the keyword def followed by the function name and parentheses ( ( ) ).\n",
    "\n",
    "* Any input parameters or arguments should be placed within these parentheses. You can also define parameters inside these parentheses.\n",
    "\n",
    "* The first statement of a function can be an optional statement - the documentation string of the function or docstring.\n",
    "\n",
    "* The code block within every function starts with a colon (:) and is indented.\n",
    "\n",
    "* The statement return [expression] exits a function, optionally passing back an expression to the caller. A return statement with no arguments is the same as return None.\n",
    "\n",
    "---\n",
    "```\n",
    "def functionname( parameters ):\n",
    "   \"function_docstring\"\n",
    "   function_suite\n",
    "   return [expression]\n",
    "```"
   ]
  },
  {
   "cell_type": "code",
   "execution_count": 1,
   "metadata": {},
   "outputs": [],
   "source": [
    "def function_name(parameter1, parameter2):\n",
    "    # Perform some operations on the parameters\n",
    "    # return some value as a result of the computation\n",
    "    pass\n",
    "\n",
    "argument1 = 'some value'\n",
    "argument2 = 'another value'\n",
    "return_value = function_name(argument1, argument2)"
   ]
  },
  {
   "cell_type": "code",
   "execution_count": 2,
   "metadata": {},
   "outputs": [
    {
     "name": "stdout",
     "output_type": "stream",
     "text": [
      "('Square of 5:', 25)\n"
     ]
    }
   ],
   "source": [
    "def square(number):\n",
    "    square_number = number*number\n",
    "    return square_number\n",
    "\n",
    "square_5 = square(5)\n",
    "print('Square of 5:', square_5)"
   ]
  },
  {
   "cell_type": "code",
   "execution_count": 3,
   "metadata": {},
   "outputs": [
    {
     "name": "stdout",
     "output_type": "stream",
     "text": [
      "('3 is odd:', True)\n",
      "('4 is odd:', False)\n"
     ]
    }
   ],
   "source": [
    "def is_odd(number):\n",
    "    mod = number % 2\n",
    "    if mod == 1:\n",
    "        return True\n",
    "    else:\n",
    "        return False\n",
    "\n",
    "odd_3 = is_odd(3)\n",
    "odd_4 = is_odd(4)\n",
    "\n",
    "print('3 is odd:', odd_3)\n",
    "print('4 is odd:', odd_4)"
   ]
  },
  {
   "cell_type": "markdown",
   "metadata": {},
   "source": [
    "#### Pass by Reference vs Value\n",
    "* All parameters (arguments) in the Python language are passed by reference. It means if you change what a parameter refers to within a function, the change also reflects back in the calling function."
   ]
  },
  {
   "cell_type": "code",
   "execution_count": 4,
   "metadata": {
    "scrolled": true
   },
   "outputs": [
    {
     "name": "stdout",
     "output_type": "stream",
     "text": [
      "('Values inside the function before change: ', [10, 20, 30])\n",
      "('Values inside the function after change: ', [10, 20, 50])\n",
      "('Values outside the function: ', [10, 20, 50])\n"
     ]
    }
   ],
   "source": [
    "def changeme( mylist ):\n",
    "   \"This changes a passed list into this function\"\n",
    "   print (\"Values inside the function before change: \", mylist)\n",
    "   mylist[2]=50\n",
    "   print (\"Values inside the function after change: \", mylist)\n",
    "   return\n",
    "\n",
    "# Now you can call changeme function\n",
    "mylist = [10,20,30]\n",
    "changeme( mylist )\n",
    "print (\"Values outside the function: \", mylist)"
   ]
  },
  {
   "cell_type": "code",
   "execution_count": 5,
   "metadata": {},
   "outputs": [
    {
     "name": "stdout",
     "output_type": "stream",
     "text": [
      "('Values inside the function: ', [1, 2, 3, 4])\n",
      "('Values outside the function: ', [10, 20, 30])\n"
     ]
    }
   ],
   "source": [
    "##Check the output for this.\n",
    "\n",
    "def changeme( mylist ):\n",
    "   \"This changes a passed list into this function\"\n",
    "   mylist = [1,2,3,4] # This would assign new reference in mylist\n",
    "   print (\"Values inside the function: \", mylist)\n",
    "   return\n",
    "\n",
    "# Now you can call changeme function\n",
    "mylist = [10,20,30]\n",
    "changeme( mylist )\n",
    "print (\"Values outside the function: \", mylist)\n",
    "\n",
    "## Why are the values different?"
   ]
  },
  {
   "cell_type": "markdown",
   "metadata": {},
   "source": [
    "#### Reason :\n",
    "The parameter mylist is local to the function changeme. Changing mylist within the function does not affect mylist. The function accomplishes nothing."
   ]
  },
  {
   "cell_type": "markdown",
   "metadata": {},
   "source": [
    "#### Default Arguments"
   ]
  },
  {
   "cell_type": "code",
   "execution_count": 6,
   "metadata": {},
   "outputs": [
    {
     "name": "stdout",
     "output_type": "stream",
     "text": [
      "('Name: ', 'Parth')\n",
      "('Age ', 20)\n",
      "('Name: ', 'Kobe')\n",
      "('Age ', 25)\n"
     ]
    }
   ],
   "source": [
    "def printinfo( name, age = 25 ):\n",
    "   print (\"Name: \", name)\n",
    "   print (\"Age \", age)\n",
    "   return\n",
    "\n",
    "# Now you can call printinfo function\n",
    "printinfo( age = 20, name = \"Parth\" )\n",
    "printinfo( name = \"Kobe\" )"
   ]
  },
  {
   "cell_type": "markdown",
   "metadata": {},
   "source": [
    "### Exercise\n",
    "#### Q. Write a function named \"Greet_Human()\" to ask the user for his/her name and print a greeting \"Hello, {name}\".  If the user enters \"No one\", then print \"Valar Morghulis\"."
   ]
  },
  {
   "cell_type": "code",
   "execution_count": 7,
   "metadata": {},
   "outputs": [],
   "source": [
    "## Your code here\n",
    "def Greet_Human():\n",
    "    ##Fill\n",
    "    return\n",
    "Greet_Human()"
   ]
  },
  {
   "cell_type": "markdown",
   "metadata": {},
   "source": [
    "#### Q. Write another function that prints the first n elements of fibonacci sequence."
   ]
  },
  {
   "cell_type": "code",
   "execution_count": null,
   "metadata": {},
   "outputs": [],
   "source": [
    "##Your code here"
   ]
  }
 ],
 "metadata": {
  "kernelspec": {
   "display_name": "Python 3",
   "language": "python",
   "name": "python3"
  },
  "language_info": {
   "codemirror_mode": {
    "name": "ipython",
    "version": 2
   },
   "file_extension": ".py",
   "mimetype": "text/x-python",
   "name": "python",
   "nbconvert_exporter": "python",
   "pygments_lexer": "ipython2",
   "version": "2.7.12"
  }
 },
 "nbformat": 4,
 "nbformat_minor": 2
}
